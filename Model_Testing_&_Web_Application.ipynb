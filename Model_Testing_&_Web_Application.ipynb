{
  "cells": [
    {
      "cell_type": "code",
      "execution_count": 1,
      "metadata": {
        "id": "7LQaH1aYIAXd"
      },
      "outputs": [
        {
          "name": "stdout",
          "output_type": "stream",
          "text": [
            "WARNING:tensorflow:From c:\\Python 10.1\\lib\\site-packages\\keras\\src\\losses.py:2976: The name tf.losses.sparse_softmax_cross_entropy is deprecated. Please use tf.compat.v1.losses.sparse_softmax_cross_entropy instead.\n",
            "\n",
            "WARNING:tensorflow:From c:\\Python 10.1\\lib\\site-packages\\keras\\src\\backend.py:1398: The name tf.executing_eagerly_outside_functions is deprecated. Please use tf.compat.v1.executing_eagerly_outside_functions instead.\n",
            "\n"
          ]
        }
      ],
      "source": [
        "from keras.models import load_model\n",
        "import joblib\n",
        "from tensorflow.keras.preprocessing.sequence import pad_sequences\n",
        "\n",
        "model = load_model(\"model.h5\")\n",
        "tokenizer = joblib.load(\"tokenizer.pkl\")\n",
        "\n",
        "def predictive_system(review):\n",
        "  sequences = tokenizer.texts_to_sequences([review])\n",
        "  padded_sequence = pad_sequences(sequences, maxlen=200)\n",
        "  prediction = model.predict(padded_sequence)\n",
        "  sentiment = \"positive\" if prediction[0][0] > 0.5 else \"negative\"\n",
        "  return sentiment"
      ]
    },
    {
      "cell_type": "code",
      "execution_count": 2,
      "metadata": {
        "colab": {
          "base_uri": "https://localhost:8080/"
        },
        "id": "gTx3x65zJU5c",
        "outputId": "68677515-4644-4d4e-c818-7527ab8948a1"
      },
      "outputs": [
        {
          "name": "stdout",
          "output_type": "stream",
          "text": [
            "1/1 [==============================] - 1s 665ms/step\n"
          ]
        }
      ],
      "source": [
        "review_sentiment = predictive_system(\"Beautiful cinematorgraphy\")"
      ]
    },
    {
      "cell_type": "code",
      "execution_count": 3,
      "metadata": {
        "colab": {
          "base_uri": "https://localhost:8080/",
          "height": 36
        },
        "id": "ssasKmbQJjVR",
        "outputId": "fc85d0ae-4768-4941-c8c9-b1ab3aaa250c"
      },
      "outputs": [
        {
          "data": {
            "text/plain": [
              "'positive'"
            ]
          },
          "execution_count": 3,
          "metadata": {},
          "output_type": "execute_result"
        }
      ],
      "source": [
        "review_sentiment"
      ]
    },
    {
      "cell_type": "code",
      "execution_count": 4,
      "metadata": {
        "colab": {
          "base_uri": "https://localhost:8080/"
        },
        "id": "4th8ChCdJkjv",
        "outputId": "84334bc7-1e88-45f7-f8d5-dc9c8eaa56a8"
      },
      "outputs": [
        {
          "name": "stdout",
          "output_type": "stream",
          "text": [
            "Requirement already satisfied: gradio in c:\\python 10.1\\lib\\site-packages (5.21.0)\n",
            "Requirement already satisfied: aiofiles<24.0,>=22.0 in c:\\python 10.1\\lib\\site-packages (from gradio) (23.2.1)\n",
            "Requirement already satisfied: anyio<5.0,>=3.0 in c:\\python 10.1\\lib\\site-packages (from gradio) (4.6.2.post1)\n",
            "Requirement already satisfied: fastapi<1.0,>=0.115.2 in c:\\python 10.1\\lib\\site-packages (from gradio) (0.115.11)\n",
            "Requirement already satisfied: ffmpy in c:\\python 10.1\\lib\\site-packages (from gradio) (0.5.0)\n",
            "Requirement already satisfied: gradio-client==1.7.2 in c:\\python 10.1\\lib\\site-packages (from gradio) (1.7.2)\n",
            "Requirement already satisfied: groovy~=0.1 in c:\\python 10.1\\lib\\site-packages (from gradio) (0.1.2)\n",
            "Requirement already satisfied: httpx>=0.24.1 in c:\\python 10.1\\lib\\site-packages (from gradio) (0.27.2)\n",
            "Requirement already satisfied: huggingface-hub>=0.28.1 in c:\\python 10.1\\lib\\site-packages (from gradio) (0.29.3)\n",
            "Requirement already satisfied: jinja2<4.0 in c:\\python 10.1\\lib\\site-packages (from gradio) (3.0.3)\n",
            "Requirement already satisfied: markupsafe~=2.0 in c:\\python 10.1\\lib\\site-packages (from gradio) (2.0.1)\n",
            "Requirement already satisfied: numpy<3.0,>=1.0 in c:\\python 10.1\\lib\\site-packages (from gradio) (1.26.4)\n",
            "Requirement already satisfied: orjson~=3.0 in c:\\python 10.1\\lib\\site-packages (from gradio) (3.10.15)\n",
            "Requirement already satisfied: packaging in c:\\python 10.1\\lib\\site-packages (from gradio) (23.1)\n",
            "Requirement already satisfied: pandas<3.0,>=1.0 in c:\\python 10.1\\lib\\site-packages (from gradio) (2.2.3)\n",
            "Requirement already satisfied: pillow<12.0,>=8.0 in c:\\python 10.1\\lib\\site-packages (from gradio) (9.5.0)\n",
            "Requirement already satisfied: pydantic>=2.0 in c:\\python 10.1\\lib\\site-packages (from gradio) (2.10.6)\n",
            "Requirement already satisfied: pydub in c:\\python 10.1\\lib\\site-packages (from gradio) (0.25.1)\n",
            "Requirement already satisfied: python-multipart>=0.0.18 in c:\\python 10.1\\lib\\site-packages (from gradio) (0.0.20)\n",
            "Requirement already satisfied: pyyaml<7.0,>=5.0 in c:\\python 10.1\\lib\\site-packages (from gradio) (6.0.2)\n",
            "Requirement already satisfied: ruff>=0.9.3 in c:\\python 10.1\\lib\\site-packages (from gradio) (0.11.0)\n",
            "Requirement already satisfied: safehttpx<0.2.0,>=0.1.6 in c:\\python 10.1\\lib\\site-packages (from gradio) (0.1.6)\n",
            "Requirement already satisfied: semantic-version~=2.0 in c:\\python 10.1\\lib\\site-packages (from gradio) (2.10.0)\n",
            "Requirement already satisfied: starlette<1.0,>=0.40.0 in c:\\python 10.1\\lib\\site-packages (from gradio) (0.46.1)\n",
            "Requirement already satisfied: tomlkit<0.14.0,>=0.12.0 in c:\\python 10.1\\lib\\site-packages (from gradio) (0.13.2)\n",
            "Requirement already satisfied: typer<1.0,>=0.12 in c:\\python 10.1\\lib\\site-packages (from gradio) (0.15.2)\n",
            "Requirement already satisfied: typing-extensions~=4.0 in c:\\python 10.1\\lib\\site-packages (from gradio) (4.12.2)\n",
            "Requirement already satisfied: uvicorn>=0.14.0 in c:\\python 10.1\\lib\\site-packages (from gradio) (0.34.0)\n",
            "Requirement already satisfied: fsspec in c:\\python 10.1\\lib\\site-packages (from gradio-client==1.7.2->gradio) (2025.3.0)\n",
            "Requirement already satisfied: websockets<16.0,>=10.0 in c:\\python 10.1\\lib\\site-packages (from gradio-client==1.7.2->gradio) (15.0.1)\n",
            "Requirement already satisfied: idna>=2.8 in c:\\python 10.1\\lib\\site-packages (from anyio<5.0,>=3.0->gradio) (3.6)\n",
            "Requirement already satisfied: sniffio>=1.1 in c:\\python 10.1\\lib\\site-packages (from anyio<5.0,>=3.0->gradio) (1.3.1)\n",
            "Requirement already satisfied: exceptiongroup>=1.0.2 in c:\\python 10.1\\lib\\site-packages (from anyio<5.0,>=3.0->gradio) (1.2.2)\n",
            "Requirement already satisfied: certifi in c:\\python 10.1\\lib\\site-packages (from httpx>=0.24.1->gradio) (2024.2.2)\n",
            "Requirement already satisfied: httpcore==1.* in c:\\python 10.1\\lib\\site-packages (from httpx>=0.24.1->gradio) (1.0.6)\n",
            "Requirement already satisfied: h11<0.15,>=0.13 in c:\\python 10.1\\lib\\site-packages (from httpcore==1.*->httpx>=0.24.1->gradio) (0.14.0)\n",
            "Requirement already satisfied: filelock in c:\\python 10.1\\lib\\site-packages (from huggingface-hub>=0.28.1->gradio) (3.18.0)\n",
            "Requirement already satisfied: requests in c:\\python 10.1\\lib\\site-packages (from huggingface-hub>=0.28.1->gradio) (2.31.0)\n",
            "Requirement already satisfied: tqdm>=4.42.1 in c:\\python 10.1\\lib\\site-packages (from huggingface-hub>=0.28.1->gradio) (4.67.1)\n",
            "Requirement already satisfied: python-dateutil>=2.8.2 in c:\\python 10.1\\lib\\site-packages (from pandas<3.0,>=1.0->gradio) (2.8.2)\n",
            "Requirement already satisfied: pytz>=2020.1 in c:\\python 10.1\\lib\\site-packages (from pandas<3.0,>=1.0->gradio) (2021.3)\n",
            "Requirement already satisfied: tzdata>=2022.7 in c:\\python 10.1\\lib\\site-packages (from pandas<3.0,>=1.0->gradio) (2025.2)\n",
            "Requirement already satisfied: annotated-types>=0.6.0 in c:\\python 10.1\\lib\\site-packages (from pydantic>=2.0->gradio) (0.7.0)\n",
            "Requirement already satisfied: pydantic-core==2.27.2 in c:\\python 10.1\\lib\\site-packages (from pydantic>=2.0->gradio) (2.27.2)\n",
            "Requirement already satisfied: click>=8.0.0 in c:\\python 10.1\\lib\\site-packages (from typer<1.0,>=0.12->gradio) (8.0.3)\n",
            "Requirement already satisfied: shellingham>=1.3.0 in c:\\python 10.1\\lib\\site-packages (from typer<1.0,>=0.12->gradio) (1.5.4)\n",
            "Requirement already satisfied: rich>=10.11.0 in c:\\python 10.1\\lib\\site-packages (from typer<1.0,>=0.12->gradio) (13.7.1)\n",
            "Requirement already satisfied: colorama in c:\\python 10.1\\lib\\site-packages (from click>=8.0.0->typer<1.0,>=0.12->gradio) (0.4.4)\n",
            "Requirement already satisfied: six>=1.5 in c:\\python 10.1\\lib\\site-packages (from python-dateutil>=2.8.2->pandas<3.0,>=1.0->gradio) (1.16.0)\n",
            "Requirement already satisfied: markdown-it-py>=2.2.0 in c:\\python 10.1\\lib\\site-packages (from rich>=10.11.0->typer<1.0,>=0.12->gradio) (3.0.0)\n",
            "Requirement already satisfied: pygments<3.0.0,>=2.13.0 in c:\\python 10.1\\lib\\site-packages (from rich>=10.11.0->typer<1.0,>=0.12->gradio) (2.17.2)\n",
            "Requirement already satisfied: charset-normalizer<4,>=2 in c:\\python 10.1\\lib\\site-packages (from requests->huggingface-hub>=0.28.1->gradio) (3.3.2)\n",
            "Requirement already satisfied: urllib3<3,>=1.21.1 in c:\\python 10.1\\lib\\site-packages (from requests->huggingface-hub>=0.28.1->gradio) (2.2.1)\n",
            "Requirement already satisfied: mdurl~=0.1 in c:\\python 10.1\\lib\\site-packages (from markdown-it-py>=2.2.0->rich>=10.11.0->typer<1.0,>=0.12->gradio) (0.1.2)\n"
          ]
        }
      ],
      "source": [
        "!pip install gradio"
      ]
    },
    {
      "cell_type": "code",
      "execution_count": 5,
      "metadata": {
        "colab": {
          "base_uri": "https://localhost:8080/",
          "height": 613
        },
        "id": "L4VtnxB6KEYx",
        "outputId": "e0b0e060-8481-4fa7-fa29-e3cc9cf42800"
      },
      "outputs": [
        {
          "name": "stdout",
          "output_type": "stream",
          "text": [
            "* Running on local URL:  http://127.0.0.1:7860\n",
            "\n",
            "Could not create share link. Please check your internet connection or our status page: https://status.gradio.app.\n"
          ]
        },
        {
          "data": {
            "text/html": [
              "<div><iframe src=\"http://127.0.0.1:7860/\" width=\"100%\" height=\"500\" allow=\"autoplay; camera; microphone; clipboard-read; clipboard-write;\" frameborder=\"0\" allowfullscreen></iframe></div>"
            ],
            "text/plain": [
              "<IPython.core.display.HTML object>"
            ]
          },
          "metadata": {},
          "output_type": "display_data"
        },
        {
          "data": {
            "text/plain": []
          },
          "execution_count": 5,
          "metadata": {},
          "output_type": "execute_result"
        },
        {
          "name": "stdout",
          "output_type": "stream",
          "text": [
            "1/1 [==============================] - 0s 58ms/step\n",
            "1/1 [==============================] - 0s 57ms/step\n",
            "1/1 [==============================] - 0s 52ms/step\n",
            "1/1 [==============================] - 0s 62ms/step\n",
            "1/1 [==============================] - 0s 90ms/step\n",
            "1/1 [==============================] - 0s 73ms/step\n",
            "1/1 [==============================] - 0s 368ms/step\n",
            "1/1 [==============================] - 0s 79ms/step\n"
          ]
        }
      ],
      "source": [
        "import gradio as gr\n",
        "title = \"MOVIE REVIEW SENTIMENT ANALYSIS APPLICATION\"\n",
        "\n",
        "app = gr.Interface(fn = predictive_system, inputs=\"textbox\", outputs=\"textbox\", title=title)\n",
        "\n",
        "app.launch(share=True)\n"
      ]
    },
    {
      "cell_type": "code",
      "execution_count": null,
      "metadata": {
        "id": "77xx-qS8KjlJ"
      },
      "outputs": [],
      "source": []
    }
  ],
  "metadata": {
    "accelerator": "GPU",
    "colab": {
      "gpuType": "T4",
      "provenance": []
    },
    "kernelspec": {
      "display_name": "Python 3",
      "name": "python3"
    },
    "language_info": {
      "codemirror_mode": {
        "name": "ipython",
        "version": 3
      },
      "file_extension": ".py",
      "mimetype": "text/x-python",
      "name": "python",
      "nbconvert_exporter": "python",
      "pygments_lexer": "ipython3",
      "version": "3.10.1"
    }
  },
  "nbformat": 4,
  "nbformat_minor": 0
}
